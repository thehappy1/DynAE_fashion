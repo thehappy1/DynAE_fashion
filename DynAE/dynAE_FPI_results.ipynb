{
 "cells": [
  {
   "cell_type": "code",
   "execution_count": 1,
   "metadata": {
    "colab": {},
    "colab_type": "code",
    "id": "cDBKpNf9krjz"
   },
   "outputs": [],
   "source": [
    "import sys\n",
    "import tensorflow as tf\n",
    "from tensorflow.keras.optimizers import SGD, Adam\n",
    "import numpy as np\n",
    "from DynAE import DynAE\n",
    "from datasets import load_data\n",
    "import metrics"
   ]
  },
  {
   "cell_type": "code",
   "execution_count": 2,
   "metadata": {
    "colab": {},
    "colab_type": "code",
    "id": "ZYz3k7EDGFGV"
   },
   "outputs": [],
   "source": [
    "dataset ='fpi'\n",
    "loss_weight_lambda=0.5\n",
    "save_dir='results'\n",
    "visualisation_dir='visualisation'\n",
    "data_path ='data' + dataset\n",
    "batch_size=256\n",
    "maxiter_pretraining=130e3\n",
    "maxiter_clustering=1e5\n",
    "tol=0.01\n",
    "optimizer1=SGD(0.001, 0.9)\n",
    "optimizer2=tf.optimizers.Adam(0.0001)\n",
    "kappa = 3\n",
    "ws=0.1\n",
    "hs=0.1\n",
    "rot=10\n",
    "scale=0.\n",
    "gamma=100"
   ]
  },
  {
   "cell_type": "code",
   "execution_count": 3,
   "metadata": {
    "colab": {},
    "colab_type": "code",
    "id": "AJaZ2yEd5Jjv"
   },
   "outputs": [
    {
     "name": "stderr",
     "output_type": "stream",
     "text": [
      "b'Skipping line 6044: expected 10 fields, saw 11\\nSkipping line 6569: expected 10 fields, saw 11\\nSkipping line 7399: expected 10 fields, saw 11\\nSkipping line 7939: expected 10 fields, saw 11\\nSkipping line 9026: expected 10 fields, saw 11\\nSkipping line 10264: expected 10 fields, saw 11\\nSkipping line 10427: expected 10 fields, saw 11\\nSkipping line 10905: expected 10 fields, saw 11\\nSkipping line 11373: expected 10 fields, saw 11\\nSkipping line 11945: expected 10 fields, saw 11\\nSkipping line 14112: expected 10 fields, saw 11\\nSkipping line 14532: expected 10 fields, saw 11\\nSkipping line 15076: expected 10 fields, saw 12\\nSkipping line 29906: expected 10 fields, saw 11\\nSkipping line 31625: expected 10 fields, saw 11\\nSkipping line 33020: expected 10 fields, saw 11\\nSkipping line 35748: expected 10 fields, saw 11\\nSkipping line 35962: expected 10 fields, saw 11\\nSkipping line 37770: expected 10 fields, saw 11\\nSkipping line 38105: expected 10 fields, saw 11\\nSkipping line 38275: expected 10 fields, saw 11\\nSkipping line 38404: expected 10 fields, saw 12\\n'\n",
      "/media/sda/fschmedes/DynAE/DynAE/DynAE/fpidataset.py:38: SettingWithCopyWarning: \n",
      "A value is trying to be set on a copy of a slice from a DataFrame.\n",
      "Try using .loc[row_indexer,col_indexer] = value instead\n",
      "\n",
      "See the caveats in the documentation: https://pandas.pydata.org/pandas-docs/stable/user_guide/indexing.html#returning-a-view-versus-a-copy\n",
      "  df_temp[\"targets\"] = df_temp.articleType.map(mapper)\n"
     ]
    },
    {
     "name": "stdout",
     "output_type": "stream",
     "text": [
      "Fashion Product Images (Small) samples (10000, 80, 60, 3)\n"
     ]
    }
   ],
   "source": [
    "x, y = load_data(dataset, data_path)\n",
    "n_clusters = len(np.unique(y))\n",
    "model = DynAE(batch_size=batch_size, dataset=dataset, dims=[x.shape[-1], 500, 500, 2000, 10], loss_weight=loss_weight_lambda, gamma=gamma, n_clusters=n_clusters, visualisation_dir=visualisation_dir, ws=ws, hs=hs, rot=rot, scale=scale)\n",
    "model.compile_dynAE(optimizer=optimizer1)\n",
    "model.compile_disc(optimizer=optimizer2)\n",
    "model.compile_aci_ae(optimizer=optimizer2)"
   ]
  },
  {
   "cell_type": "code",
   "execution_count": 4,
   "metadata": {
    "colab": {},
    "colab_type": "code",
    "id": "N-gHv6chKXrK"
   },
   "outputs": [],
   "source": [
    "#Load the pretraining weights if you have already pretrained your network\n",
    "\n",
    "model.ae.load_weights(save_dir + '/' + dataset + '/pretrain/ae_weights.h5')\n",
    "model.critic.load_weights(save_dir + '/' + dataset + '/pretrain/critic_weights.h5')"
   ]
  },
  {
   "cell_type": "code",
   "execution_count": 5,
   "metadata": {
    "colab": {},
    "colab_type": "code",
    "id": "glk-m2EUm9El"
   },
   "outputs": [],
   "source": [
    "#Pretraining phase\n",
    "\n",
    "#model.train_aci_ae(x, y, maxiter=maxiter_pretraining, batch_size=batch_size, validate_interval=2800, save_interval=2800, save_dir=save_dir, verbose=1, aug_train=True)"
   ]
  },
  {
   "cell_type": "code",
   "execution_count": 6,
   "metadata": {
    "colab": {},
    "colab_type": "code",
    "id": "irYUhE4A0taq"
   },
   "outputs": [],
   "source": [
    "#Save the pretraining weights if you do not want to pretrain your model again\n",
    "\n",
    "#model.ae.save_weights(save_dir + '/' + dataset + '/pretrain/ae_weights.h5')\n",
    "#model.critic.save_weights(save_dir + '/' + dataset + '/pretrain/critic_weights.h5')"
   ]
  },
  {
   "cell_type": "code",
   "execution_count": 7,
   "metadata": {
    "colab": {},
    "colab_type": "code",
    "id": "ToASzift00IL",
    "scrolled": true
   },
   "outputs": [],
   "source": [
    "#Clustering phase\n",
    "#y_pred = model.train_dynAE(x=x, y=y, kappa=kappa, n_clusters=n_clusters, maxiter=maxiter_clustering, batch_size=batch_size, tol=tol, validate_interval=140, show_interval=None, save_interval=2800, save_dir=save_dir, aug_train=True)"
   ]
  },
  {
   "cell_type": "code",
   "execution_count": 8,
   "metadata": {
    "colab": {},
    "colab_type": "code",
    "id": "aQ1bfeVXNy1l"
   },
   "outputs": [],
   "source": [
    "#Save the clustering weights\n",
    "#model.ae.save_weights(save_dir + '/' + dataset + '/cluster/ae_weights.h5')"
   ]
  },
  {
   "cell_type": "code",
   "execution_count": null,
   "metadata": {
    "colab": {},
    "colab_type": "code",
    "id": "CKB4Cv0LX1Xe",
    "scrolled": true
   },
   "outputs": [],
   "source": [
    "#Validation\n",
    "model.validate(x, y, dataset)"
   ]
  },
  {
   "cell_type": "code",
   "execution_count": null,
   "metadata": {},
   "outputs": [],
   "source": []
  },
  {
   "cell_type": "code",
   "execution_count": null,
   "metadata": {},
   "outputs": [],
   "source": []
  }
 ],
 "metadata": {
  "accelerator": "GPU",
  "colab": {
   "collapsed_sections": [],
   "name": "dynAE.ipynb",
   "provenance": []
  },
  "kernelspec": {
   "display_name": "Python 3",
   "language": "python",
   "name": "python3"
  },
  "language_info": {
   "codemirror_mode": {
    "name": "ipython",
    "version": 3
   },
   "file_extension": ".py",
   "mimetype": "text/x-python",
   "name": "python",
   "nbconvert_exporter": "python",
   "pygments_lexer": "ipython3",
   "version": "3.8.6"
  }
 },
 "nbformat": 4,
 "nbformat_minor": 1
}
